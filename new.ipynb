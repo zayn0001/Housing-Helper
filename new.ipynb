{
 "cells": [
  {
   "cell_type": "code",
   "execution_count": 1,
   "metadata": {},
   "outputs": [],
   "source": [
    "import openai\n",
    "from os import getenv\n",
    "from fastapi import FastAPI\n",
    "from dotenv import load_dotenv\n",
    "\n",
    "load_dotenv()\n",
    "app = FastAPI()\n"
   ]
  },
  {
   "cell_type": "code",
   "execution_count": null,
   "metadata": {},
   "outputs": [],
   "source": []
  },
  {
   "cell_type": "code",
   "execution_count": 2,
   "metadata": {},
   "outputs": [
    {
     "data": {
      "text/plain": [
       "[VectorStore(id='vs_74DhNUKh6sErnaaSk5sT2X9e', bytes=None, created_at=1715094756, file_counts=FileCounts(cancelled=0, completed=1, failed=0, in_progress=0, total=1), last_active_at=1715262969, metadata={}, name='Dream11', object='vector_store', status='completed', expires_after=None, expires_at=None, usage_bytes=1616535),\n",
       " VectorStore(id='vs_l7uuSAnirZgPKhfnSriaOoTu', bytes=None, created_at=1714828340, file_counts=FileCounts(cancelled=0, completed=1, failed=0, in_progress=0, total=1), last_active_at=1715009031, metadata={}, name='Support FAQ', object='vector_store', status='completed', expires_after=None, expires_at=None, usage_bytes=2875),\n",
       " VectorStore(id='vs_oyCadoQAfTDgr6r1OwLbiZPr', bytes=None, created_at=1714316233, file_counts=FileCounts(cancelled=0, completed=5, failed=0, in_progress=0, total=5), last_active_at=1714820768, metadata={}, name='Housing Assistant', object='vector_store', status='completed', expires_after=None, expires_at=None, usage_bytes=2142930),\n",
       " VectorStore(id='vs_MmrU73I0PmQqZDpsquzYw0eJ', bytes=None, created_at=1714313840, file_counts=FileCounts(cancelled=0, completed=0, failed=0, in_progress=0, total=0), last_active_at=1714315706, metadata={}, name='Support FAQ', object='vector_store', status='completed', expires_after=None, expires_at=None, usage_bytes=0)]"
      ]
     },
     "execution_count": 2,
     "metadata": {},
     "output_type": "execute_result"
    }
   ],
   "source": [
    "client = openai.OpenAI(api_key=getenv(\"OPENAI_API_KEY\"))\n",
    "list(client.beta.vector_stores.list())"
   ]
  },
  {
   "cell_type": "code",
   "execution_count": 20,
   "metadata": {},
   "outputs": [],
   "source": [
    "def deleteall():\n",
    "    for k in list(client.beta.vector_stores.list()):\n",
    "        client.beta.vector_stores.delete(\n",
    "            vector_store_id=k.id\n",
    "        )\n",
    "def createnew():\n",
    "    cli = client.beta.vector_stores.create(\n",
    "        name=\"Housing Assistant\"\n",
    "    )\n",
    "    return cli.id\n"
   ]
  },
  {
   "cell_type": "code",
   "execution_count": 21,
   "metadata": {},
   "outputs": [],
   "source": [
    "deleteall()\n"
   ]
  },
  {
   "cell_type": "code",
   "execution_count": 22,
   "metadata": {},
   "outputs": [
    {
     "data": {
      "text/plain": [
       "'vs_oyCadoQAfTDgr6r1OwLbiZPr'"
      ]
     },
     "execution_count": 22,
     "metadata": {},
     "output_type": "execute_result"
    }
   ],
   "source": [
    "cli = createnew()\n",
    "cli"
   ]
  },
  {
   "cell_type": "code",
   "execution_count": 23,
   "metadata": {},
   "outputs": [],
   "source": [
    "file_paths = [\"sample_files/num1.pdf\", \"sample_files/num2.pdf\",\"sample_files/num3.pdf\",\"sample_files/num4.pdf\",\"sample_files/num6.pdf\"]\n",
    "file_streams = [open(path, \"rb\") for path in file_paths]\n"
   ]
  },
  {
   "cell_type": "code",
   "execution_count": 24,
   "metadata": {},
   "outputs": [],
   "source": [
    "fileidmatch = {}\n"
   ]
  },
  {
   "cell_type": "code",
   "execution_count": 25,
   "metadata": {},
   "outputs": [],
   "source": [
    "for k in range(len(file_streams)):\n",
    "    cli = client.files.create(\n",
    "  file=file_streams[k],\n",
    "  purpose=\"assistants\"\n",
    ")\n",
    "    fileidmatch[file_paths[k]] = cli.id"
   ]
  },
  {
   "cell_type": "code",
   "execution_count": 26,
   "metadata": {},
   "outputs": [
    {
     "data": {
      "text/plain": [
       "{'sample_files/num1.pdf': 'file-5IED2QKjBtQPncyo29sb3bd2',\n",
       " 'sample_files/num2.pdf': 'file-DNbDePyPmU1C9ZhLe56QWAdp',\n",
       " 'sample_files/num3.pdf': 'file-TYvB0JEnYUSigMhDKeWE6kUy',\n",
       " 'sample_files/num4.pdf': 'file-VNdRZp7AmPBZm8iBHcdKeREJ',\n",
       " 'sample_files/num6.pdf': 'file-MH3jm6gmvedNnx5TwwTdYrza'}"
      ]
     },
     "execution_count": 26,
     "metadata": {},
     "output_type": "execute_result"
    }
   ],
   "source": [
    "\n",
    "vectoridmatch = {}\n",
    "fileidmatch"
   ]
  },
  {
   "cell_type": "code",
   "execution_count": 27,
   "metadata": {},
   "outputs": [],
   "source": [
    "for k in fileidmatch.keys():\n",
    "    vector_store_file = client.beta.vector_stores.files.create(\n",
    "  vector_store_id=\"vs_oyCadoQAfTDgr6r1OwLbiZPr\",\n",
    "  file_id=fileidmatch[k]\n",
    ")\n",
    "    vectoridmatch[k] = vector_store_file.id"
   ]
  },
  {
   "cell_type": "code",
   "execution_count": 35,
   "metadata": {},
   "outputs": [
    {
     "data": {
      "text/plain": [
       "SyncCursorPage[VectorStore](data=[VectorStore(id='vs_oyCadoQAfTDgr6r1OwLbiZPr', bytes=None, created_at=1714316233, file_counts=FileCounts(cancelled=0, completed=5, failed=0, in_progress=0, total=5), last_active_at=1714317572, metadata={}, name='Housing Assistant', object='vector_store', status='completed', expires_after=None, expires_at=None, usage_bytes=2142930)], object='list', first_id='vs_oyCadoQAfTDgr6r1OwLbiZPr', last_id='vs_oyCadoQAfTDgr6r1OwLbiZPr', has_more=False)"
      ]
     },
     "execution_count": 35,
     "metadata": {},
     "output_type": "execute_result"
    }
   ],
   "source": [
    "client.beta.vector_stores.list()"
   ]
  },
  {
   "cell_type": "code",
   "execution_count": 29,
   "metadata": {},
   "outputs": [
    {
     "data": {
      "text/plain": [
       "VectorStoreDeleted(id='vs_TmTo1l9o3hoAhLkWm3EY87T4', deleted=True, object='vector_store.deleted')"
      ]
     },
     "execution_count": 29,
     "metadata": {},
     "output_type": "execute_result"
    }
   ],
   "source": [
    "client.beta.vector_stores.delete(vector_store_id=\"vs_TmTo1l9o3hoAhLkWm3EY87T4\")"
   ]
  },
  {
   "cell_type": "code",
   "execution_count": 33,
   "metadata": {},
   "outputs": [
    {
     "data": {
      "text/plain": [
       "SyncCursorPage[VectorStoreFile](data=[VectorStoreFile(id='file-MH3jm6gmvedNnx5TwwTdYrza', created_at=1714316623, last_error=None, object='vector_store.file', status='completed', vector_store_id='vs_oyCadoQAfTDgr6r1OwLbiZPr', usage_bytes=178723), VectorStoreFile(id='file-VNdRZp7AmPBZm8iBHcdKeREJ', created_at=1714316621, last_error=None, object='vector_store.file', status='completed', vector_store_id='vs_oyCadoQAfTDgr6r1OwLbiZPr', usage_bytes=192113), VectorStoreFile(id='file-TYvB0JEnYUSigMhDKeWE6kUy', created_at=1714316619, last_error=None, object='vector_store.file', status='completed', vector_store_id='vs_oyCadoQAfTDgr6r1OwLbiZPr', usage_bytes=145933), VectorStoreFile(id='file-DNbDePyPmU1C9ZhLe56QWAdp', created_at=1714316618, last_error=None, object='vector_store.file', status='completed', vector_store_id='vs_oyCadoQAfTDgr6r1OwLbiZPr', usage_bytes=304768), VectorStoreFile(id='file-5IED2QKjBtQPncyo29sb3bd2', created_at=1714316616, last_error=None, object='vector_store.file', status='completed', vector_store_id='vs_oyCadoQAfTDgr6r1OwLbiZPr', usage_bytes=1321393)], object='list', first_id='file-MH3jm6gmvedNnx5TwwTdYrza', last_id='file-5IED2QKjBtQPncyo29sb3bd2', has_more=False)"
      ]
     },
     "execution_count": 33,
     "metadata": {},
     "output_type": "execute_result"
    }
   ],
   "source": [
    "client.beta.vector_stores.files.list(\n",
    "  vector_store_id=\"vs_oyCadoQAfTDgr6r1OwLbiZPr\"\n",
    ")"
   ]
  },
  {
   "cell_type": "code",
   "execution_count": null,
   "metadata": {},
   "outputs": [],
   "source": []
  }
 ],
 "metadata": {
  "kernelspec": {
   "display_name": "three-eleven",
   "language": "python",
   "name": "python3"
  },
  "language_info": {
   "codemirror_mode": {
    "name": "ipython",
    "version": 3
   },
   "file_extension": ".py",
   "mimetype": "text/x-python",
   "name": "python",
   "nbconvert_exporter": "python",
   "pygments_lexer": "ipython3",
   "version": "3.11.3"
  }
 },
 "nbformat": 4,
 "nbformat_minor": 2
}
