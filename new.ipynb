{
 "cells": [
  {
   "cell_type": "code",
   "execution_count": 1,
   "metadata": {},
   "outputs": [],
   "source": [
    "import openai\n",
    "from os import getenv\n",
    "from fastapi import FastAPI\n",
    "from dotenv import load_dotenv\n",
    "\n",
    "load_dotenv()\n",
    "app = FastAPI()\n"
   ]
  },
  {
   "cell_type": "code",
   "execution_count": null,
   "metadata": {},
   "outputs": [],
   "source": []
  },
  {
   "cell_type": "code",
   "execution_count": 17,
   "metadata": {},
   "outputs": [
    {
     "data": {
      "text/plain": [
       "[VectorStore(id='vs_TmTo1l9o3hoAhLkWm3EY87T4', bytes=None, created_at=1714308041, file_counts=FileCounts(cancelled=0, completed=5, failed=1, in_progress=0, total=6), last_active_at=1714313873, metadata={}, name='Housing Documents', object='vector_store', status='completed', expires_after=None, expires_at=None, usage_bytes=2142930)]"
      ]
     },
     "execution_count": 17,
     "metadata": {},
     "output_type": "execute_result"
    }
   ],
   "source": [
    "client = openai.OpenAI(api_key=getenv(\"OPENAI_API_KEY\"))\n",
    "list(client.beta.vector_stores.list())"
   ]
  },
  {
   "cell_type": "code",
   "execution_count": 20,
   "metadata": {},
   "outputs": [],
   "source": [
    "def deleteall():\n",
    "    for k in list(client.beta.vector_stores.list()):\n",
    "        client.beta.vector_stores.delete(\n",
    "            vector_store_id=k.id\n",
    "        )\n",
    "def createnew():\n",
    "    cli = client.beta.vector_stores.create(\n",
    "        name=\"Housing Assistant\"\n",
    "    )\n",
    "    return cli.id\n"
   ]
  },
  {
   "cell_type": "code",
   "execution_count": 21,
   "metadata": {},
   "outputs": [],
   "source": [
    "deleteall()"
   ]
  },
  {
   "cell_type": "code",
   "execution_count": 9,
   "metadata": {},
   "outputs": [],
   "source": [
    "file_paths = [\"sample_files/num1.pdf\", \"sample_files/num2.pdf\",\"sample_files/num3.pdf\",\"sample_files/num4.pdf\",\"sample_files/num6.pdf\"]\n",
    "file_streams = [open(path, \"rb\") for path in file_paths]"
   ]
  },
  {
   "cell_type": "code",
   "execution_count": 19,
   "metadata": {},
   "outputs": [
    {
     "data": {
      "text/plain": [
       "SyncCursorPage[VectorStoreFile](data=[VectorStoreFile(id='file-OlV1iWLv7ZZwiXvkv0SxTM5G', created_at=1714308155, last_error=None, object='vector_store.file', status='completed', vector_store_id='vs_TmTo1l9o3hoAhLkWm3EY87T4', usage_bytes=145933), VectorStoreFile(id='file-U6jtClLs2VZf1uCn7lBIiDpH', created_at=1714308155, last_error=LastError(code='invalid_file', message='The file could not be parsed because it is empty.'), object='vector_store.file', status='failed', vector_store_id='vs_TmTo1l9o3hoAhLkWm3EY87T4', usage_bytes=0), VectorStoreFile(id='file-aG8XIhN67wRvrdy9mmRw7iBg', created_at=1714308155, last_error=None, object='vector_store.file', status='completed', vector_store_id='vs_TmTo1l9o3hoAhLkWm3EY87T4', usage_bytes=192113), VectorStoreFile(id='file-M3Bs8aL1RzScCfmBXtV1kuCM', created_at=1714308155, last_error=None, object='vector_store.file', status='completed', vector_store_id='vs_TmTo1l9o3hoAhLkWm3EY87T4', usage_bytes=178723), VectorStoreFile(id='file-NNqR1ebEKxHHmQKOiqCtoO3b', created_at=1714308155, last_error=None, object='vector_store.file', status='completed', vector_store_id='vs_TmTo1l9o3hoAhLkWm3EY87T4', usage_bytes=1321393), VectorStoreFile(id='file-ylIyBjMw4XoSmhfEz7OvtE9E', created_at=1714308155, last_error=None, object='vector_store.file', status='completed', vector_store_id='vs_TmTo1l9o3hoAhLkWm3EY87T4', usage_bytes=304768)], object='list', first_id='file-OlV1iWLv7ZZwiXvkv0SxTM5G', last_id='file-ylIyBjMw4XoSmhfEz7OvtE9E', has_more=False)"
      ]
     },
     "execution_count": 19,
     "metadata": {},
     "output_type": "execute_result"
    }
   ],
   "source": [
    "client.beta.vector_stores.files.list(\n",
    "  vector_store_id=\"vs_TmTo1l9o3hoAhLkWm3EY87T4\"\n",
    ")"
   ]
  },
  {
   "cell_type": "code",
   "execution_count": null,
   "metadata": {},
   "outputs": [],
   "source": []
  }
 ],
 "metadata": {
  "kernelspec": {
   "display_name": "three-eleven",
   "language": "python",
   "name": "python3"
  },
  "language_info": {
   "codemirror_mode": {
    "name": "ipython",
    "version": 3
   },
   "file_extension": ".py",
   "mimetype": "text/x-python",
   "name": "python",
   "nbconvert_exporter": "python",
   "pygments_lexer": "ipython3",
   "version": "3.11.3"
  }
 },
 "nbformat": 4,
 "nbformat_minor": 2
}
